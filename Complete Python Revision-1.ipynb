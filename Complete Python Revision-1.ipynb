{
 "cells": [
  {
   "cell_type": "markdown",
   "id": "af9de02a",
   "metadata": {},
   "source": [
    "\n",
    "# Python\n",
    "\n",
    "-> Python is compiled as well as interpreted language\n",
    "\n",
    "\n",
    "-> SourceCode->[Compiler]-> ByteCode(PlatformIndependent)->[Interpreter(Python Virtual Machine,PVM)]->MachineCode\n",
    "\n",
    "\n",
    "-> Python is actually called cpython because it is built upon C language."
   ]
  },
  {
   "cell_type": "markdown",
   "id": "bfe96885",
   "metadata": {},
   "source": [
    "## Python is built upon a philosophy"
   ]
  },
  {
   "cell_type": "code",
   "execution_count": 7,
   "id": "a701aae4",
   "metadata": {},
   "outputs": [
    {
     "name": "stdout",
     "output_type": "stream",
     "text": [
      "The Zen of Python, by Tim Peters\n",
      "\n",
      "Beautiful is better than ugly.\n",
      "Explicit is better than implicit.\n",
      "Simple is better than complex.\n",
      "Complex is better than complicated.\n",
      "Flat is better than nested.\n",
      "Sparse is better than dense.\n",
      "Readability counts.\n",
      "Special cases aren't special enough to break the rules.\n",
      "Although practicality beats purity.\n",
      "Errors should never pass silently.\n",
      "Unless explicitly silenced.\n",
      "In the face of ambiguity, refuse the temptation to guess.\n",
      "There should be one-- and preferably only one --obvious way to do it.\n",
      "Although that way may not be obvious at first unless you're Dutch.\n",
      "Now is better than never.\n",
      "Although never is often better than *right* now.\n",
      "If the implementation is hard to explain, it's a bad idea.\n",
      "If the implementation is easy to explain, it may be a good idea.\n",
      "Namespaces are one honking great idea -- let's do more of those!\n"
     ]
    }
   ],
   "source": [
    "import this"
   ]
  },
  {
   "cell_type": "code",
   "execution_count": 2,
   "id": "0bb20552",
   "metadata": {},
   "outputs": [],
   "source": [
    "a=10"
   ]
  },
  {
   "cell_type": "markdown",
   "id": "848a22ee",
   "metadata": {},
   "source": [
    "#### Output console visible"
   ]
  },
  {
   "cell_type": "code",
   "execution_count": 5,
   "id": "a0a285bc",
   "metadata": {},
   "outputs": [
    {
     "data": {
      "text/plain": [
       "20"
      ]
     },
     "execution_count": 5,
     "metadata": {},
     "output_type": "execute_result"
    }
   ],
   "source": [
    "a+10"
   ]
  },
  {
   "cell_type": "markdown",
   "id": "5ac12265",
   "metadata": {},
   "source": [
    "#### Actual printing"
   ]
  },
  {
   "cell_type": "code",
   "execution_count": 6,
   "id": "605d8a1f",
   "metadata": {},
   "outputs": [
    {
     "name": "stdout",
     "output_type": "stream",
     "text": [
      "20\n"
     ]
    }
   ],
   "source": [
    "print(a+10)"
   ]
  },
  {
   "cell_type": "markdown",
   "id": "d95e3139",
   "metadata": {},
   "source": [
    "# Comments"
   ]
  },
  {
   "cell_type": "code",
   "execution_count": 8,
   "id": "efd02626",
   "metadata": {},
   "outputs": [],
   "source": [
    "# single line comment"
   ]
  },
  {
   "cell_type": "code",
   "execution_count": 9,
   "id": "fb8affe2",
   "metadata": {},
   "outputs": [
    {
     "data": {
      "text/plain": [
       "'\\nmulti\\nline\\ncomments\\n'"
      ]
     },
     "execution_count": 9,
     "metadata": {},
     "output_type": "execute_result"
    }
   ],
   "source": [
    "'''\n",
    "multi\n",
    "line\n",
    "comments\n",
    "'''"
   ]
  },
  {
   "cell_type": "markdown",
   "id": "78808b69",
   "metadata": {},
   "source": [
    "# Data Types"
   ]
  },
  {
   "cell_type": "code",
   "execution_count": 11,
   "id": "b7875d72",
   "metadata": {},
   "outputs": [
    {
     "data": {
      "text/plain": [
       "10"
      ]
     },
     "execution_count": 11,
     "metadata": {},
     "output_type": "execute_result"
    }
   ],
   "source": [
    "a=10\n",
    "a"
   ]
  },
  {
   "cell_type": "code",
   "execution_count": 12,
   "id": "9b3d61a3",
   "metadata": {},
   "outputs": [
    {
     "data": {
      "text/plain": [
       "int"
      ]
     },
     "execution_count": 12,
     "metadata": {},
     "output_type": "execute_result"
    }
   ],
   "source": [
    "type(a)"
   ]
  },
  {
   "cell_type": "code",
   "execution_count": 13,
   "id": "11570f9e",
   "metadata": {},
   "outputs": [
    {
     "data": {
      "text/plain": [
       "str"
      ]
     },
     "execution_count": 13,
     "metadata": {},
     "output_type": "execute_result"
    }
   ],
   "source": [
    "a=\"hi\"\n",
    "type(a)"
   ]
  },
  {
   "cell_type": "code",
   "execution_count": 16,
   "id": "bfae1a66",
   "metadata": {},
   "outputs": [
    {
     "data": {
      "text/plain": [
       "100.1"
      ]
     },
     "execution_count": 16,
     "metadata": {},
     "output_type": "execute_result"
    }
   ],
   "source": [
    "a=100.1\n",
    "a"
   ]
  },
  {
   "cell_type": "code",
   "execution_count": 17,
   "id": "aa801cb7",
   "metadata": {},
   "outputs": [
    {
     "data": {
      "text/plain": [
       "float"
      ]
     },
     "execution_count": 17,
     "metadata": {},
     "output_type": "execute_result"
    }
   ],
   "source": [
    "type(a)"
   ]
  },
  {
   "cell_type": "code",
   "execution_count": 18,
   "id": "c3c9841b",
   "metadata": {},
   "outputs": [
    {
     "data": {
      "text/plain": [
       "100"
      ]
     },
     "execution_count": 18,
     "metadata": {},
     "output_type": "execute_result"
    }
   ],
   "source": [
    "### Type Cast\n",
    "int(a)"
   ]
  },
  {
   "cell_type": "code",
   "execution_count": 19,
   "id": "31b8e8bb",
   "metadata": {},
   "outputs": [
    {
     "data": {
      "text/plain": [
       "bool"
      ]
     },
     "execution_count": 19,
     "metadata": {},
     "output_type": "execute_result"
    }
   ],
   "source": [
    "a=True\n",
    "type(a)"
   ]
  },
  {
   "cell_type": "code",
   "execution_count": 20,
   "id": "257f93ee",
   "metadata": {},
   "outputs": [],
   "source": [
    "b=False"
   ]
  },
  {
   "cell_type": "code",
   "execution_count": 21,
   "id": "37065c08",
   "metadata": {},
   "outputs": [
    {
     "data": {
      "text/plain": [
       "False"
      ]
     },
     "execution_count": 21,
     "metadata": {},
     "output_type": "execute_result"
    }
   ],
   "source": [
    "a and b"
   ]
  },
  {
   "cell_type": "code",
   "execution_count": 22,
   "id": "80aac2ce",
   "metadata": {},
   "outputs": [
    {
     "data": {
      "text/plain": [
       "True"
      ]
     },
     "execution_count": 22,
     "metadata": {},
     "output_type": "execute_result"
    }
   ],
   "source": [
    "a or b"
   ]
  },
  {
   "cell_type": "code",
   "execution_count": 23,
   "id": "a26c5d0d",
   "metadata": {},
   "outputs": [
    {
     "data": {
      "text/plain": [
       "True"
      ]
     },
     "execution_count": 23,
     "metadata": {},
     "output_type": "execute_result"
    }
   ],
   "source": [
    "a | b"
   ]
  },
  {
   "cell_type": "code",
   "execution_count": 24,
   "id": "a41477ac",
   "metadata": {},
   "outputs": [
    {
     "data": {
      "text/plain": [
       "False"
      ]
     },
     "execution_count": 24,
     "metadata": {},
     "output_type": "execute_result"
    }
   ],
   "source": [
    "a & b"
   ]
  },
  {
   "cell_type": "code",
   "execution_count": 26,
   "id": "a795b259",
   "metadata": {},
   "outputs": [
    {
     "name": "stdout",
     "output_type": "stream",
     "text": [
      "Muskan\n"
     ]
    },
    {
     "data": {
      "text/plain": [
       "str"
      ]
     },
     "execution_count": 26,
     "metadata": {},
     "output_type": "execute_result"
    }
   ],
   "source": [
    "name = 'Muskan'\n",
    "print(name)\n",
    "type(name)"
   ]
  },
  {
   "cell_type": "code",
   "execution_count": 27,
   "id": "3b53045f",
   "metadata": {},
   "outputs": [],
   "source": [
    "sname = 'Singhal'"
   ]
  },
  {
   "cell_type": "code",
   "execution_count": 28,
   "id": "e2f7ed30",
   "metadata": {},
   "outputs": [
    {
     "data": {
      "text/plain": [
       "'MuskanSinghal'"
      ]
     },
     "execution_count": 28,
     "metadata": {},
     "output_type": "execute_result"
    }
   ],
   "source": [
    "name + sname"
   ]
  },
  {
   "cell_type": "code",
   "execution_count": 30,
   "id": "3c6004ec",
   "metadata": {},
   "outputs": [
    {
     "data": {
      "text/plain": [
       "'Muskan1'"
      ]
     },
     "execution_count": 30,
     "metadata": {},
     "output_type": "execute_result"
    }
   ],
   "source": [
    "name + str(1)"
   ]
  },
  {
   "cell_type": "code",
   "execution_count": 39,
   "id": "8fa9b8cc",
   "metadata": {},
   "outputs": [
    {
     "data": {
      "text/plain": [
       "(1-2.5j)"
      ]
     },
     "execution_count": 39,
     "metadata": {},
     "output_type": "execute_result"
    }
   ],
   "source": [
    "# Complex Numbers\n",
    "x=1.0-2.5j\n",
    "x"
   ]
  },
  {
   "cell_type": "code",
   "execution_count": 40,
   "id": "ebd7fd3c",
   "metadata": {},
   "outputs": [],
   "source": [
    "a=x.real"
   ]
  },
  {
   "cell_type": "code",
   "execution_count": 41,
   "id": "f619885f",
   "metadata": {},
   "outputs": [],
   "source": [
    "b=x.imag"
   ]
  },
  {
   "cell_type": "code",
   "execution_count": 42,
   "id": "7bac182d",
   "metadata": {},
   "outputs": [
    {
     "data": {
      "text/plain": [
       "(1-2.5j)"
      ]
     },
     "execution_count": 42,
     "metadata": {},
     "output_type": "execute_result"
    }
   ],
   "source": [
    "new = complex(a,b)\n",
    "new"
   ]
  },
  {
   "cell_type": "code",
   "execution_count": 43,
   "id": "72ebfc34",
   "metadata": {},
   "outputs": [],
   "source": [
    "# Dynamic Typing -> datatype automatically understood by compiler\n",
    "a = 10\n",
    "b = 'krish'"
   ]
  },
  {
   "cell_type": "code",
   "execution_count": 44,
   "id": "2684dd84",
   "metadata": {},
   "outputs": [
    {
     "data": {
      "text/plain": [
       "'Mus2402'"
      ]
     },
     "execution_count": 44,
     "metadata": {},
     "output_type": "execute_result"
    }
   ],
   "source": [
    "# Strong Typing -> \n",
    "a = 'Mus'\n",
    "a+str(2402)"
   ]
  },
  {
   "cell_type": "code",
   "execution_count": 45,
   "id": "87f4b263",
   "metadata": {},
   "outputs": [
    {
     "name": "stdout",
     "output_type": "stream",
     "text": [
      "The value is: 100\n"
     ]
    }
   ],
   "source": [
    "# String Formatting\n",
    "a = 100\n",
    "print('The value is:', a)"
   ]
  },
  {
   "cell_type": "code",
   "execution_count": 50,
   "id": "12186645",
   "metadata": {},
   "outputs": [
    {
     "name": "stdout",
     "output_type": "stream",
     "text": [
      "The first name is Muskan, The last name is Singhal\n"
     ]
    }
   ],
   "source": [
    "fname = 'Muskan'\n",
    "lname = 'Singhal'\n",
    "print('The first name is {}, The last name is {}'.format(fname, sname))"
   ]
  },
  {
   "cell_type": "code",
   "execution_count": 51,
   "id": "658ceba4",
   "metadata": {},
   "outputs": [
    {
     "name": "stdout",
     "output_type": "stream",
     "text": [
      "The first name is Muskan, The last name is Singhal\n"
     ]
    }
   ],
   "source": [
    "print('The first name is {0}, The last name is {1}'.format(fname, sname))"
   ]
  },
  {
   "cell_type": "code",
   "execution_count": 52,
   "id": "07d27ffb",
   "metadata": {},
   "outputs": [
    {
     "name": "stdout",
     "output_type": "stream",
     "text": [
      "The first name is Muskan, The last name is Singhal\n"
     ]
    }
   ],
   "source": [
    "print('The first name is {ff}, The last name is {ll}'.format(ll=sname, ff=fname))"
   ]
  },
  {
   "cell_type": "code",
   "execution_count": 74,
   "id": "50d23dac",
   "metadata": {},
   "outputs": [
    {
     "name": "stdout",
     "output_type": "stream",
     "text": [
      "The first name is Muskan, The last name is Singhal\n"
     ]
    }
   ],
   "source": [
    "print(f'The first name is {fname}, The last name is {lname}')"
   ]
  },
  {
   "cell_type": "code",
   "execution_count": 57,
   "id": "fa3145f5",
   "metadata": {},
   "outputs": [
    {
     "name": "stdout",
     "output_type": "stream",
     "text": [
      "Enter number A : 12\n",
      "Enter number B : 12\n",
      "1212\n",
      "24\n"
     ]
    }
   ],
   "source": [
    "# INPUT type - always takes string datatype by default \n",
    "x = input('Enter number A : ')\n",
    "y = input('Enter number B : ')\n",
    "print(x+y)\n",
    "print(int(x)+int(y))"
   ]
  },
  {
   "cell_type": "code",
   "execution_count": 58,
   "id": "05aee6c3",
   "metadata": {},
   "outputs": [
    {
     "name": "stdout",
     "output_type": "stream",
     "text": [
      "Enter number A : 12\n",
      "Enter number B : 12\n",
      "24\n"
     ]
    }
   ],
   "source": [
    "x = int(input('Enter number A : '))\n",
    "y = int(input('Enter number B : '))\n",
    "print(x+y)"
   ]
  },
  {
   "cell_type": "markdown",
   "id": "2956f9a1",
   "metadata": {},
   "source": [
    "# Control Flows"
   ]
  },
  {
   "cell_type": "code",
   "execution_count": 68,
   "id": "b7968b76",
   "metadata": {},
   "outputs": [
    {
     "name": "stdout",
     "output_type": "stream",
     "text": [
      "Enter the number10\n"
     ]
    },
    {
     "data": {
      "text/plain": [
       "10.0"
      ]
     },
     "execution_count": 68,
     "metadata": {},
     "output_type": "execute_result"
    }
   ],
   "source": [
    "# if statement\n",
    "\n",
    "val = input('Enter the number')\n",
    "val = float(val)\n",
    "val"
   ]
  },
  {
   "cell_type": "code",
   "execution_count": 69,
   "id": "f7bd7749",
   "metadata": {},
   "outputs": [
    {
     "name": "stdout",
     "output_type": "stream",
     "text": [
      "The number is less than 100!\n"
     ]
    }
   ],
   "source": [
    "if val == 100:\n",
    "    print(\"The number is 100!\")\n",
    "elif val < 100:\n",
    "    print(\"The number is less than 100!\")\n",
    "else:\n",
    "    print(\"The number is greater than 100!\")"
   ]
  },
  {
   "cell_type": "code",
   "execution_count": 70,
   "id": "b5b580fb",
   "metadata": {},
   "outputs": [
    {
     "name": "stdout",
     "output_type": "stream",
     "text": [
      "The number is even!\n"
     ]
    }
   ],
   "source": [
    "# Check even-odd\n",
    "if val%2:\n",
    "    print(\"The number is odd!\")\n",
    "else:\n",
    "    print(\"The number is even!\")"
   ]
  },
  {
   "cell_type": "code",
   "execution_count": 71,
   "id": "5a6867eb",
   "metadata": {},
   "outputs": [
    {
     "name": "stdout",
     "output_type": "stream",
     "text": [
      "1\n",
      "4\n",
      "9\n",
      "16\n",
      "25\n",
      "36\n"
     ]
    }
   ],
   "source": [
    "# for loop\n",
    "my_list = [1,2,3,4,5,6]\n",
    "for i in my_list:\n",
    "    print(i**2)"
   ]
  },
  {
   "cell_type": "code",
   "execution_count": 72,
   "id": "2cf58dfa",
   "metadata": {},
   "outputs": [
    {
     "data": {
      "text/plain": [
       "21"
      ]
     },
     "execution_count": 72,
     "metadata": {},
     "output_type": "execute_result"
    }
   ],
   "source": [
    "my_sum = 0\n",
    "for i in my_list:\n",
    "    my_sum += i\n",
    "my_sum"
   ]
  },
  {
   "cell_type": "code",
   "execution_count": 79,
   "id": "383dbe3e",
   "metadata": {},
   "outputs": [
    {
     "name": "stdout",
     "output_type": "stream",
     "text": [
      "0\n",
      "1\n",
      "2\n",
      "3\n",
      "4\n",
      "5\n",
      "6\n",
      "7\n",
      "8\n"
     ]
    }
   ],
   "source": [
    "# while loop\n",
    "i = 0\n",
    "while(i<=10):\n",
    "    print(i)\n",
    "    i+=1\n",
    "    if (i==9):\n",
    "        break"
   ]
  },
  {
   "cell_type": "code",
   "execution_count": 84,
   "id": "e4b94721",
   "metadata": {},
   "outputs": [
    {
     "name": "stdout",
     "output_type": "stream",
     "text": [
      "1\n",
      "2\n",
      "3\n",
      "4\n"
     ]
    }
   ],
   "source": [
    "#break\n",
    "i = 1\n",
    "while(i<=10):\n",
    "    if i==5:\n",
    "        break\n",
    "    print(i)\n",
    "    i+=1"
   ]
  },
  {
   "cell_type": "code",
   "execution_count": 91,
   "id": "23d56ff8",
   "metadata": {},
   "outputs": [
    {
     "name": "stdout",
     "output_type": "stream",
     "text": [
      "1\n",
      "2\n",
      "3\n",
      "4\n"
     ]
    }
   ],
   "source": [
    "#continue\n",
    "i = 0\n",
    "while(i<=10):\n",
    "    i+=1\n",
    "    if i>=5:\n",
    "        continue\n",
    "    print(i)"
   ]
  },
  {
   "cell_type": "markdown",
   "id": "dab4ddd5",
   "metadata": {},
   "source": [
    "## Python Operators\n",
    "\n",
    "- Logical : and, or, not\n",
    "- Equality : is, is not, ==, !=\n",
    "- Comparison : <, <=, >, >=\n",
    "- Arithmetic : +, -, *, /, //, %\n",
    "- Bitwise"
   ]
  },
  {
   "cell_type": "code",
   "execution_count": 92,
   "id": "219ee8d8",
   "metadata": {},
   "outputs": [],
   "source": [
    "# Logical Operators -> and, or , not"
   ]
  },
  {
   "cell_type": "code",
   "execution_count": 93,
   "id": "e3ed00e8",
   "metadata": {},
   "outputs": [
    {
     "data": {
      "text/plain": [
       "bool"
      ]
     },
     "execution_count": 93,
     "metadata": {},
     "output_type": "execute_result"
    }
   ],
   "source": [
    "type(True)"
   ]
  },
  {
   "cell_type": "code",
   "execution_count": 94,
   "id": "6e8800dc",
   "metadata": {},
   "outputs": [
    {
     "data": {
      "text/plain": [
       "bool"
      ]
     },
     "execution_count": 94,
     "metadata": {},
     "output_type": "execute_result"
    }
   ],
   "source": [
    "type(False)"
   ]
  },
  {
   "cell_type": "code",
   "execution_count": 95,
   "id": "f20cb7fa",
   "metadata": {},
   "outputs": [
    {
     "data": {
      "text/plain": [
       "True"
      ]
     },
     "execution_count": 95,
     "metadata": {},
     "output_type": "execute_result"
    }
   ],
   "source": [
    "bool(1)"
   ]
  },
  {
   "cell_type": "code",
   "execution_count": 96,
   "id": "ad73b11e",
   "metadata": {},
   "outputs": [
    {
     "data": {
      "text/plain": [
       "False"
      ]
     },
     "execution_count": 96,
     "metadata": {},
     "output_type": "execute_result"
    }
   ],
   "source": [
    "bool(0)"
   ]
  },
  {
   "cell_type": "code",
   "execution_count": 97,
   "id": "d59bcc11",
   "metadata": {},
   "outputs": [
    {
     "data": {
      "text/plain": [
       "True"
      ]
     },
     "execution_count": 97,
     "metadata": {},
     "output_type": "execute_result"
    }
   ],
   "source": [
    "bool(9)"
   ]
  },
  {
   "cell_type": "code",
   "execution_count": 98,
   "id": "0a4da003",
   "metadata": {},
   "outputs": [
    {
     "data": {
      "text/plain": [
       "True"
      ]
     },
     "execution_count": 98,
     "metadata": {},
     "output_type": "execute_result"
    }
   ],
   "source": [
    "bool(-1)"
   ]
  },
  {
   "cell_type": "code",
   "execution_count": 99,
   "id": "e98dd6f3",
   "metadata": {},
   "outputs": [
    {
     "data": {
      "text/plain": [
       "False"
      ]
     },
     "execution_count": 99,
     "metadata": {},
     "output_type": "execute_result"
    }
   ],
   "source": [
    "a = True\n",
    "b = False"
   ]
  },
  {
   "cell_type": "code",
   "execution_count": 103,
   "id": "8213cacb",
   "metadata": {},
   "outputs": [
    {
     "data": {
      "text/plain": [
       "False"
      ]
     },
     "execution_count": 103,
     "metadata": {},
     "output_type": "execute_result"
    }
   ],
   "source": [
    "a and b"
   ]
  },
  {
   "cell_type": "code",
   "execution_count": 104,
   "id": "db87834f",
   "metadata": {},
   "outputs": [
    {
     "data": {
      "text/plain": [
       "True"
      ]
     },
     "execution_count": 104,
     "metadata": {},
     "output_type": "execute_result"
    }
   ],
   "source": [
    "a or b"
   ]
  },
  {
   "cell_type": "code",
   "execution_count": 105,
   "id": "c4b4fe0f",
   "metadata": {},
   "outputs": [
    {
     "data": {
      "text/plain": [
       "False"
      ]
     },
     "execution_count": 105,
     "metadata": {},
     "output_type": "execute_result"
    }
   ],
   "source": [
    "not a"
   ]
  },
  {
   "cell_type": "code",
   "execution_count": 106,
   "id": "ee234305",
   "metadata": {},
   "outputs": [
    {
     "data": {
      "text/plain": [
       "True"
      ]
     },
     "execution_count": 106,
     "metadata": {},
     "output_type": "execute_result"
    }
   ],
   "source": [
    "not b"
   ]
  },
  {
   "cell_type": "code",
   "execution_count": 110,
   "id": "219f80a4",
   "metadata": {},
   "outputs": [
    {
     "name": "stdout",
     "output_type": "stream",
     "text": [
      "Enter the age : 33\n",
      "Middle Aged!\n"
     ]
    }
   ],
   "source": [
    "age = int(input('Enter the age : '))\n",
    "if age<35 and age>=18:\n",
    "    print('Middle Aged!')"
   ]
  },
  {
   "cell_type": "code",
   "execution_count": 111,
   "id": "fa12c284",
   "metadata": {},
   "outputs": [
    {
     "name": "stdout",
     "output_type": "stream",
     "text": [
      "Enter the age : 90\n",
      "Middle Aged!\n"
     ]
    }
   ],
   "source": [
    "age = int(input('Enter the age : '))\n",
    "if age<35 or age>=18:\n",
    "    print('Middle Aged!')"
   ]
  },
  {
   "cell_type": "code",
   "execution_count": 112,
   "id": "6f1284a3",
   "metadata": {},
   "outputs": [
    {
     "data": {
      "text/plain": [
       "False"
      ]
     },
     "execution_count": 112,
     "metadata": {},
     "output_type": "execute_result"
    }
   ],
   "source": [
    "# Equality Operators -> is, is not, ==, !=\n",
    "\n",
    "a = 'Mus'\n",
    "b = 'Musk'\n",
    "a==b"
   ]
  },
  {
   "cell_type": "code",
   "execution_count": 113,
   "id": "5a993aaa",
   "metadata": {},
   "outputs": [
    {
     "data": {
      "text/plain": [
       "False"
      ]
     },
     "execution_count": 113,
     "metadata": {},
     "output_type": "execute_result"
    }
   ],
   "source": [
    "a is b"
   ]
  },
  {
   "cell_type": "code",
   "execution_count": 114,
   "id": "437d8465",
   "metadata": {},
   "outputs": [
    {
     "name": "stdout",
     "output_type": "stream",
     "text": [
      "4396131696\n",
      "4396131696\n"
     ]
    }
   ],
   "source": [
    "x = 'Mus'\n",
    "y = 'Mus'\n",
    "print(id(x))\n",
    "print(id(y))"
   ]
  },
  {
   "cell_type": "code",
   "execution_count": 118,
   "id": "13ebeb36",
   "metadata": {},
   "outputs": [
    {
     "data": {
      "text/plain": [
       "True"
      ]
     },
     "execution_count": 118,
     "metadata": {},
     "output_type": "execute_result"
    }
   ],
   "source": [
    "# CHECKS IF BOTH VARIABLES POITING TO THE SAME MEMORY LOCATION\n",
    "x is y"
   ]
  },
  {
   "cell_type": "code",
   "execution_count": 117,
   "id": "83934a59",
   "metadata": {},
   "outputs": [
    {
     "data": {
      "text/plain": [
       "True"
      ]
     },
     "execution_count": 117,
     "metadata": {},
     "output_type": "execute_result"
    }
   ],
   "source": [
    "# CHECKS IF VALUE IN BOTH THE VARIABLES IS SAME\n",
    "x==y"
   ]
  },
  {
   "cell_type": "code",
   "execution_count": 133,
   "id": "6ac9994c",
   "metadata": {},
   "outputs": [
    {
     "name": "stdout",
     "output_type": "stream",
     "text": [
      "DIFFERENT locations:\n",
      "4397062016\n",
      "4395203712\n",
      "\n",
      "SAME locations:\n",
      "4395193472\n",
      "4395193472\n"
     ]
    }
   ],
   "source": [
    "# even if collections have same values, they point to different locations if defined differently\n",
    "\n",
    "my_list = [1,2,3]\n",
    "your_list = [1,2,3]\n",
    "print('DIFFERENT locations:')\n",
    "print(id(my_list))\n",
    "print(id(your_list))\n",
    "\n",
    "my_list = [1,2,3]\n",
    "your_list = my_list\n",
    "print('\\nSAME locations:')\n",
    "print(id(my_list))\n",
    "print(id(your_list))"
   ]
  },
  {
   "cell_type": "code",
   "execution_count": 124,
   "id": "34e8f077",
   "metadata": {},
   "outputs": [
    {
     "data": {
      "text/plain": [
       "False"
      ]
     },
     "execution_count": 124,
     "metadata": {},
     "output_type": "execute_result"
    }
   ],
   "source": [
    "# CHECKS IF BOTH VARIABLES POITING TO THE SAME MEMORY LOCATION\n",
    "my_list is your_list"
   ]
  },
  {
   "cell_type": "code",
   "execution_count": 125,
   "id": "0f3b68c3",
   "metadata": {},
   "outputs": [
    {
     "data": {
      "text/plain": [
       "True"
      ]
     },
     "execution_count": 125,
     "metadata": {},
     "output_type": "execute_result"
    }
   ],
   "source": [
    "# CHECKS IF VALUE IN BOTH THE VARIABLES IS SAME\n",
    "my_list==your_list"
   ]
  },
  {
   "cell_type": "code",
   "execution_count": 126,
   "id": "48361929",
   "metadata": {},
   "outputs": [
    {
     "data": {
      "text/plain": [
       "False"
      ]
     },
     "execution_count": 126,
     "metadata": {},
     "output_type": "execute_result"
    }
   ],
   "source": [
    "# CHECKS IF VALUE IN BOTH THE VARIABLES IS SAME\n",
    "my_list!=your_list"
   ]
  },
  {
   "cell_type": "code",
   "execution_count": 129,
   "id": "7b1cac26",
   "metadata": {},
   "outputs": [
    {
     "name": "stdout",
     "output_type": "stream",
     "text": [
      "4314916056\n",
      "4314916056\n"
     ]
    }
   ],
   "source": [
    "a=1\n",
    "b=a\n",
    "print(id(a))\n",
    "print(id(b))"
   ]
  },
  {
   "cell_type": "code",
   "execution_count": 137,
   "id": "cb6189cd",
   "metadata": {},
   "outputs": [
    {
     "name": "stdout",
     "output_type": "stream",
     "text": [
      "Enter your marks: 99\n",
      "pass\n"
     ]
    }
   ],
   "source": [
    "# Comparison Opeartors: <, <=, >, >=\n",
    "\n",
    "marks = int(input('Enter your marks: '))\n",
    "if marks>=35:\n",
    "    print(\"pass\")\n",
    "    if marks>=50 and marks<=75:\n",
    "        print(\"first class\")\n",
    "else:\n",
    "    print(\"fail\")"
   ]
  },
  {
   "cell_type": "code",
   "execution_count": 176,
   "id": "12dfba0c",
   "metadata": {},
   "outputs": [
    {
     "name": "stdout",
     "output_type": "stream",
     "text": [
      "99\n",
      "11\n",
      "1.25\n",
      "1\n",
      "11\n",
      "2420\n"
     ]
    }
   ],
   "source": [
    "# Arithmetic : +, -, *, /, //, %, **\n",
    "\n",
    "a=55\n",
    "b=44\n",
    "print(a+b)\n",
    "print(a-b)\n",
    "print(a/b) #true division\n",
    "print(a//b) #integer division\n",
    "print(a%b)\n",
    "print(a*b)"
   ]
  },
  {
   "cell_type": "markdown",
   "id": "2822a7e2",
   "metadata": {},
   "source": [
    "# Python Number Methods"
   ]
  },
  {
   "cell_type": "code",
   "execution_count": 139,
   "id": "8f40b419",
   "metadata": {},
   "outputs": [
    {
     "data": {
      "text/plain": [
       "1"
      ]
     },
     "execution_count": 139,
     "metadata": {},
     "output_type": "execute_result"
    }
   ],
   "source": [
    "abs(-1)"
   ]
  },
  {
   "cell_type": "code",
   "execution_count": 140,
   "id": "e7628057",
   "metadata": {},
   "outputs": [
    {
     "data": {
      "text/plain": [
       "1.234234"
      ]
     },
     "execution_count": 140,
     "metadata": {},
     "output_type": "execute_result"
    }
   ],
   "source": [
    "abs(-1.234234)"
   ]
  },
  {
   "cell_type": "code",
   "execution_count": 4,
   "id": "6121489f",
   "metadata": {},
   "outputs": [],
   "source": [
    "import math"
   ]
  },
  {
   "cell_type": "code",
   "execution_count": 145,
   "id": "3c7ea03f",
   "metadata": {},
   "outputs": [
    {
     "data": {
      "text/plain": [
       "10"
      ]
     },
     "execution_count": 145,
     "metadata": {},
     "output_type": "execute_result"
    }
   ],
   "source": [
    "math.ceil(9.9)"
   ]
  },
  {
   "cell_type": "code",
   "execution_count": 147,
   "id": "483f5f0e",
   "metadata": {},
   "outputs": [
    {
     "data": {
      "text/plain": [
       "9"
      ]
     },
     "execution_count": 147,
     "metadata": {},
     "output_type": "execute_result"
    }
   ],
   "source": [
    "math.floor(9.9)"
   ]
  },
  {
   "cell_type": "code",
   "execution_count": 148,
   "id": "b789232f",
   "metadata": {},
   "outputs": [
    {
     "data": {
      "text/plain": [
       "-9"
      ]
     },
     "execution_count": 148,
     "metadata": {},
     "output_type": "execute_result"
    }
   ],
   "source": [
    "math.ceil(-9.9)"
   ]
  },
  {
   "cell_type": "code",
   "execution_count": 149,
   "id": "e1841528",
   "metadata": {},
   "outputs": [
    {
     "data": {
      "text/plain": [
       "-10"
      ]
     },
     "execution_count": 149,
     "metadata": {},
     "output_type": "execute_result"
    }
   ],
   "source": [
    "math.floor(-9.9)"
   ]
  },
  {
   "cell_type": "code",
   "execution_count": 152,
   "id": "c15deb12",
   "metadata": {},
   "outputs": [
    {
     "data": {
      "text/plain": [
       "7.38905609893065"
      ]
     },
     "execution_count": 152,
     "metadata": {},
     "output_type": "execute_result"
    }
   ],
   "source": [
    "math.exp(2)   #since e = 2.71828 & so e**2 = 7.3890"
   ]
  },
  {
   "cell_type": "code",
   "execution_count": 153,
   "id": "65231d42",
   "metadata": {},
   "outputs": [
    {
     "data": {
      "text/plain": [
       "0.1353352832366127"
      ]
     },
     "execution_count": 153,
     "metadata": {},
     "output_type": "execute_result"
    }
   ],
   "source": [
    "math.exp(-2)"
   ]
  },
  {
   "cell_type": "code",
   "execution_count": 130,
   "id": "dcbb50a8",
   "metadata": {},
   "outputs": [
    {
     "name": "stdout",
     "output_type": "stream",
     "text": [
      "4397062016\n",
      "4397062016\n"
     ]
    }
   ],
   "source": [
    "# abs() -> always return data type of output as per the data type of input, also works with complex numbers\n",
    "# math.fabs() -> irrespective of data input, always return in floating points, fails with complex numbers"
   ]
  },
  {
   "cell_type": "code",
   "execution_count": 159,
   "id": "0806f05c",
   "metadata": {},
   "outputs": [
    {
     "data": {
      "text/plain": [
       "2"
      ]
     },
     "execution_count": 159,
     "metadata": {},
     "output_type": "execute_result"
    }
   ],
   "source": [
    "abs(-2)"
   ]
  },
  {
   "cell_type": "code",
   "execution_count": 158,
   "id": "8d92162b",
   "metadata": {},
   "outputs": [
    {
     "data": {
      "text/plain": [
       "2.0"
      ]
     },
     "execution_count": 158,
     "metadata": {},
     "output_type": "execute_result"
    }
   ],
   "source": [
    "abs(-2.0)"
   ]
  },
  {
   "cell_type": "code",
   "execution_count": 164,
   "id": "2b02ae66",
   "metadata": {},
   "outputs": [
    {
     "data": {
      "text/plain": [
       "2.23606797749979"
      ]
     },
     "execution_count": 164,
     "metadata": {},
     "output_type": "execute_result"
    }
   ],
   "source": [
    "abs(1+2j)"
   ]
  },
  {
   "cell_type": "code",
   "execution_count": 160,
   "id": "cddaf07c",
   "metadata": {},
   "outputs": [
    {
     "data": {
      "text/plain": [
       "2.0"
      ]
     },
     "execution_count": 160,
     "metadata": {},
     "output_type": "execute_result"
    }
   ],
   "source": [
    "math.fabs(-2)"
   ]
  },
  {
   "cell_type": "code",
   "execution_count": 161,
   "id": "0376000a",
   "metadata": {},
   "outputs": [
    {
     "data": {
      "text/plain": [
       "2.0"
      ]
     },
     "execution_count": 161,
     "metadata": {},
     "output_type": "execute_result"
    }
   ],
   "source": [
    "math.fabs(-2.0)"
   ]
  },
  {
   "cell_type": "code",
   "execution_count": 165,
   "id": "e8eb37c3",
   "metadata": {},
   "outputs": [
    {
     "ename": "TypeError",
     "evalue": "must be real number, not complex",
     "output_type": "error",
     "traceback": [
      "\u001b[0;31m---------------------------------------------------------------------------\u001b[0m",
      "\u001b[0;31mTypeError\u001b[0m                                 Traceback (most recent call last)",
      "Cell \u001b[0;32mIn[165], line 1\u001b[0m\n\u001b[0;32m----> 1\u001b[0m math\u001b[38;5;241m.\u001b[39mfabs(\u001b[38;5;241m1\u001b[39m\u001b[38;5;241m+\u001b[39m\u001b[38;5;241m2\u001b[39mj)\n",
      "\u001b[0;31mTypeError\u001b[0m: must be real number, not complex"
     ]
    }
   ],
   "source": [
    "math.fabs(1+2j)"
   ]
  },
  {
   "cell_type": "code",
   "execution_count": 166,
   "id": "6dd97ed4",
   "metadata": {},
   "outputs": [
    {
     "data": {
      "text/plain": [
       "2.995732273553991"
      ]
     },
     "execution_count": 166,
     "metadata": {},
     "output_type": "execute_result"
    }
   ],
   "source": [
    "math.log(20) #by default log to the base e"
   ]
  },
  {
   "cell_type": "code",
   "execution_count": 167,
   "id": "2acf0ee1",
   "metadata": {},
   "outputs": [
    {
     "data": {
      "text/plain": [
       "1.3010299956639813"
      ]
     },
     "execution_count": 167,
     "metadata": {},
     "output_type": "execute_result"
    }
   ],
   "source": [
    "math.log10(20)"
   ]
  },
  {
   "cell_type": "code",
   "execution_count": 168,
   "id": "c494db33",
   "metadata": {},
   "outputs": [
    {
     "data": {
      "text/plain": [
       "4.321928094887363"
      ]
     },
     "execution_count": 168,
     "metadata": {},
     "output_type": "execute_result"
    }
   ],
   "source": [
    "math.log2(20)"
   ]
  },
  {
   "cell_type": "code",
   "execution_count": 169,
   "id": "2712dd29",
   "metadata": {},
   "outputs": [
    {
     "data": {
      "text/plain": [
       "3.044522437723423"
      ]
     },
     "execution_count": 169,
     "metadata": {},
     "output_type": "execute_result"
    }
   ],
   "source": [
    "math.log1p(20)"
   ]
  },
  {
   "cell_type": "code",
   "execution_count": 170,
   "id": "42ab6dea",
   "metadata": {},
   "outputs": [
    {
     "data": {
      "text/plain": [
       "2"
      ]
     },
     "execution_count": 170,
     "metadata": {},
     "output_type": "execute_result"
    }
   ],
   "source": [
    "max(1,2)"
   ]
  },
  {
   "cell_type": "code",
   "execution_count": 171,
   "id": "224442d1",
   "metadata": {},
   "outputs": [
    {
     "data": {
      "text/plain": [
       "1"
      ]
     },
     "execution_count": 171,
     "metadata": {},
     "output_type": "execute_result"
    }
   ],
   "source": [
    "min(3,1)"
   ]
  },
  {
   "cell_type": "code",
   "execution_count": 178,
   "id": "a20dcffa",
   "metadata": {},
   "outputs": [
    {
     "data": {
      "text/plain": [
       "-0.125"
      ]
     },
     "execution_count": 178,
     "metadata": {},
     "output_type": "execute_result"
    }
   ],
   "source": [
    "math.pow(-2,-3)"
   ]
  },
  {
   "cell_type": "code",
   "execution_count": 175,
   "id": "806c7b07",
   "metadata": {},
   "outputs": [
    {
     "data": {
      "text/plain": [
       "8.0"
      ]
     },
     "execution_count": 175,
     "metadata": {},
     "output_type": "execute_result"
    }
   ],
   "source": [
    "math.pow(2,3)"
   ]
  },
  {
   "cell_type": "code",
   "execution_count": 174,
   "id": "f2584a34",
   "metadata": {},
   "outputs": [
    {
     "data": {
      "text/plain": [
       "8"
      ]
     },
     "execution_count": 174,
     "metadata": {},
     "output_type": "execute_result"
    }
   ],
   "source": [
    "2**3"
   ]
  },
  {
   "cell_type": "code",
   "execution_count": 177,
   "id": "a0ed5edc",
   "metadata": {},
   "outputs": [
    {
     "data": {
      "text/plain": [
       "4.0"
      ]
     },
     "execution_count": 177,
     "metadata": {},
     "output_type": "execute_result"
    }
   ],
   "source": [
    "math.sqrt(16)"
   ]
  },
  {
   "cell_type": "code",
   "execution_count": 180,
   "id": "8d16401e",
   "metadata": {},
   "outputs": [
    {
     "data": {
      "text/plain": [
       "3.0"
      ]
     },
     "execution_count": 180,
     "metadata": {},
     "output_type": "execute_result"
    }
   ],
   "source": [
    "math.sqrt(9)"
   ]
  },
  {
   "cell_type": "code",
   "execution_count": 183,
   "id": "8c48d461",
   "metadata": {},
   "outputs": [
    {
     "data": {
      "text/plain": [
       "-0.8011526357338304"
      ]
     },
     "execution_count": 183,
     "metadata": {},
     "output_type": "execute_result"
    }
   ],
   "source": [
    "math.sin(180)"
   ]
  },
  {
   "cell_type": "code",
   "execution_count": 184,
   "id": "f3aafd0e",
   "metadata": {},
   "outputs": [
    {
     "data": {
      "text/plain": [
       "1.0"
      ]
     },
     "execution_count": 184,
     "metadata": {},
     "output_type": "execute_result"
    }
   ],
   "source": [
    "math.cos(0)"
   ]
  },
  {
   "cell_type": "code",
   "execution_count": 185,
   "id": "a26ba003",
   "metadata": {},
   "outputs": [
    {
     "data": {
      "text/plain": [
       "-0.4480736161291702"
      ]
     },
     "execution_count": 185,
     "metadata": {},
     "output_type": "execute_result"
    }
   ],
   "source": [
    "math.cos(90)"
   ]
  },
  {
   "cell_type": "code",
   "execution_count": 6,
   "id": "12a1ff4f",
   "metadata": {},
   "outputs": [
    {
     "data": {
      "text/plain": [
       "3.605551275463989"
      ]
     },
     "execution_count": 6,
     "metadata": {},
     "output_type": "execute_result"
    }
   ],
   "source": [
    "math.hypot(2,3) #hypotenuse [h^2 = a^2 + b^2]"
   ]
  },
  {
   "cell_type": "code",
   "execution_count": 9,
   "id": "e2fe6b21",
   "metadata": {},
   "outputs": [
    {
     "data": {
      "text/plain": [
       "(0.44399999999999995, 3.0)"
      ]
     },
     "execution_count": 9,
     "metadata": {},
     "output_type": "execute_result"
    }
   ],
   "source": [
    "# Returns the fractional & integer parts of number in a two-item tuple -> (fractional, integer)\n",
    "# Both parts have the same sign as the number. \n",
    "# The integer part is returned as a float.\n",
    "\n",
    "math.modf(3.444)"
   ]
  },
  {
   "cell_type": "code",
   "execution_count": 10,
   "id": "ca81521c",
   "metadata": {},
   "outputs": [
    {
     "data": {
      "text/plain": [
       "(-0.44399999999999995, -3.0)"
      ]
     },
     "execution_count": 10,
     "metadata": {},
     "output_type": "execute_result"
    }
   ],
   "source": [
    "math.modf(-3.444)"
   ]
  },
  {
   "cell_type": "code",
   "execution_count": 17,
   "id": "d5abfc4b",
   "metadata": {},
   "outputs": [
    {
     "name": "stdout",
     "output_type": "stream",
     "text": [
      "1 is a prime number.\n",
      "2 is a prime number.\n",
      "3 is a prime number.\n",
      "4 is NOT a prime number.\n",
      "5 is a prime number.\n",
      "6 is NOT a prime number.\n",
      "7 is a prime number.\n",
      "8 is NOT a prime number.\n",
      "9 is a prime number.\n",
      "10 is NOT a prime number.\n"
     ]
    }
   ],
   "source": [
    "#program to check prime numbers\n",
    "\n",
    "list1 = [1,2,3,4,5,6,7,8,9,10]\n",
    "\n",
    "for i in list1:\n",
    "    flag = True\n",
    "    for j in range(2,i):\n",
    "        if i%j == 0:\n",
    "            flag = False\n",
    "        break  \n",
    "    if flag:\n",
    "        print(f'{i} is a prime number.')\n",
    "    else:\n",
    "        print(f'{i} is NOT a prime number.')"
   ]
  },
  {
   "cell_type": "code",
   "execution_count": 35,
   "id": "5ee8b6a6",
   "metadata": {},
   "outputs": [
    {
     "name": "stdout",
     "output_type": "stream",
     "text": [
      "Enter 3 comma-separated numbers: 2,3,4\n",
      "4\n",
      "4\n"
     ]
    }
   ],
   "source": [
    "#program to check max of 3 numbers\n",
    "\n",
    "a, b, c = map(int, input('Enter 3 comma-separated numbers: ').split(','))\n",
    "\n",
    "print(max(a,b,c))\n",
    "\n",
    "if a>b:\n",
    "    if a>c:\n",
    "        max_num = a\n",
    "    else:\n",
    "        max_num = c\n",
    "else:\n",
    "    if b>c:\n",
    "        max_num = b\n",
    "    else:\n",
    "        max_num = c\n",
    "    \n",
    "print(max_num)  "
   ]
  },
  {
   "cell_type": "markdown",
   "id": "5872bea5",
   "metadata": {},
   "source": [
    "# Python Data Structures"
   ]
  },
  {
   "cell_type": "markdown",
   "id": "d81f5324",
   "metadata": {},
   "source": [
    "| Feature          | String                          | List                              | Tuple                             | Set                               | Dictionary                       |\n",
    "|------------------|---------------------------------|-----------------------------------|-----------------------------------|-----------------------------------|----------------------------------|\n",
    "| Type             | Immutable                       | Mutable                           | Immutable                         | Mutable (but elements are immutable) | Mutable                         |\n",
    "| Syntax           | Enclosed in quotes ('', \"\")     | Enclosed in square brackets []    | Enclosed in parentheses ()        | Enclosed in curly braces {} or `set()` for an empty set | Enclosed in curly braces {} with key-value pairs |\n",
    "| Order            | Ordered                         | Ordered                           | Ordered                           | Unordered                         | Unordered until Python 3.7, ordered by insertion from Python 3.7+ |\n",
    "| Indexing         | Supported (character access)    | Supported (element access)        | Supported (element access)        | Not supported                     | Not supported (access via keys)  |\n",
    "| Duplicate Values | Allowed (repeated characters)   | Allowed                           | Allowed                           | Not allowed                       | Not allowed in keys, allowed in values |\n",
    "| Element Type     | Characters (strings)            | Any type                          | Any type                          | Any immutable type                | Any immutable type for keys, any type for values |\n",
    "| Mutability       | Cannot be changed after creation| Can change, add, remove elements  | Cannot be changed after creation  | Can add or remove elements, but elements themselves cannot be modified | Can add, remove, or change values associated with keys |\n",
    "| Use Case         | Text data                       | General purpose, ordered collection| Fixed data, faster than lists for some operations | Unique elements, membership testing, set operations | Key-value pairs, fast lookup by key |\n"
   ]
  },
  {
   "cell_type": "code",
   "execution_count": null,
   "id": "4a08f18f",
   "metadata": {},
   "outputs": [],
   "source": [
    "#Str -> \"\" -> immutable, ordered\n",
    "#Lists -> [] -> mutable, ordered, heterogenous, subscriptable\n",
    "#Sets -> {} -> mutable fully(elements not mutable), unordered but sorted, no duplicate elements, non-subscriptable\n",
    "#Dictionary -> {key1:value1, key2:value2, ..} -> mutable, unordered, subscriptable with key names\n",
    "#Tuples -> () -> immutable, ordered, ## Python Data Structures Comparison"
   ]
  },
  {
   "cell_type": "code",
   "execution_count": 37,
   "id": "f626c82c",
   "metadata": {},
   "outputs": [
    {
     "name": "stdout",
     "output_type": "stream",
     "text": [
      "Mus\n",
      "Kan\n"
     ]
    },
    {
     "data": {
      "text/plain": [
       "str"
      ]
     },
     "execution_count": 37,
     "metadata": {},
     "output_type": "execute_result"
    }
   ],
   "source": [
    "#complete overwritting possible in strings\n",
    "my_str = 'Mus'\n",
    "print(my_str)\n",
    "my_str = 'Kan'\n",
    "print(my_str)\n",
    "type(my_str)"
   ]
  },
  {
   "cell_type": "code",
   "execution_count": 38,
   "id": "ce433ae0",
   "metadata": {},
   "outputs": [
    {
     "data": {
      "text/plain": [
       "'K'"
      ]
     },
     "execution_count": 38,
     "metadata": {},
     "output_type": "execute_result"
    }
   ],
   "source": [
    "my_str[0]"
   ]
  },
  {
   "cell_type": "code",
   "execution_count": 41,
   "id": "79718041",
   "metadata": {},
   "outputs": [
    {
     "ename": "TypeError",
     "evalue": "'str' object does not support item assignment",
     "output_type": "error",
     "traceback": [
      "\u001b[0;31m---------------------------------------------------------------------------\u001b[0m",
      "\u001b[0;31mTypeError\u001b[0m                                 Traceback (most recent call last)",
      "Cell \u001b[0;32mIn[41], line 1\u001b[0m\n\u001b[0;32m----> 1\u001b[0m my_str[\u001b[38;5;241m0\u001b[39m] \u001b[38;5;241m=\u001b[39m \u001b[38;5;124m'\u001b[39m\u001b[38;5;124mk\u001b[39m\u001b[38;5;124m'\u001b[39m\n",
      "\u001b[0;31mTypeError\u001b[0m: 'str' object does not support item assignment"
     ]
    }
   ],
   "source": [
    "#strings are immutable\n",
    "my_str[0] = 'k'"
   ]
  },
  {
   "cell_type": "code",
   "execution_count": 46,
   "id": "40bf2cdb",
   "metadata": {},
   "outputs": [
    {
     "data": {
      "text/plain": [
       "list"
      ]
     },
     "execution_count": 46,
     "metadata": {},
     "output_type": "execute_result"
    }
   ],
   "source": [
    "type([])"
   ]
  },
  {
   "cell_type": "code",
   "execution_count": 51,
   "id": "90b6c36f",
   "metadata": {},
   "outputs": [
    {
     "data": {
      "text/plain": [
       "list"
      ]
     },
     "execution_count": 51,
     "metadata": {},
     "output_type": "execute_result"
    }
   ],
   "source": [
    "lst = list()\n",
    "type(lst)"
   ]
  },
  {
   "cell_type": "code",
   "execution_count": 52,
   "id": "dd2fe8d3",
   "metadata": {},
   "outputs": [
    {
     "name": "stdout",
     "output_type": "stream",
     "text": [
      "[1, 2, 'Mus', 2.2]\n"
     ]
    },
    {
     "data": {
      "text/plain": [
       "list"
      ]
     },
     "execution_count": 52,
     "metadata": {},
     "output_type": "execute_result"
    }
   ],
   "source": [
    "lst = list((1,2,'Mus',2.2))\n",
    "print(lst)\n",
    "type(lst)"
   ]
  },
  {
   "cell_type": "code",
   "execution_count": 63,
   "id": "7c2c490b",
   "metadata": {},
   "outputs": [
    {
     "name": "stdout",
     "output_type": "stream",
     "text": [
      "[1, 2, 3, 'Mus', 'Kan', '1.2']\n",
      "[1, 3]\n"
     ]
    },
    {
     "data": {
      "text/plain": [
       "list"
      ]
     },
     "execution_count": 63,
     "metadata": {},
     "output_type": "execute_result"
    }
   ],
   "source": [
    "my_list = [1,2,3,'Mus','Kan','1.2']\n",
    "print(my_list)\n",
    "my_list = [1,3]\n",
    "print(my_list)\n",
    "type(my_list)"
   ]
  },
  {
   "cell_type": "code",
   "execution_count": 64,
   "id": "42da4dd1",
   "metadata": {},
   "outputs": [
    {
     "data": {
      "text/plain": [
       "3"
      ]
     },
     "execution_count": 64,
     "metadata": {},
     "output_type": "execute_result"
    }
   ],
   "source": [
    "my_list[1]"
   ]
  },
  {
   "cell_type": "code",
   "execution_count": 65,
   "id": "c7316b03",
   "metadata": {},
   "outputs": [
    {
     "name": "stdout",
     "output_type": "stream",
     "text": [
      "[1, 4, 5]\n"
     ]
    }
   ],
   "source": [
    "#lists are mutable\n",
    "my_list[1] = 4\n",
    "\n",
    "#add element at the last with append\n",
    "my_list.append(5)\n",
    "print(my_list)"
   ]
  },
  {
   "cell_type": "code",
   "execution_count": 66,
   "id": "d3d3dddc",
   "metadata": {},
   "outputs": [
    {
     "data": {
      "text/plain": [
       "3"
      ]
     },
     "execution_count": 66,
     "metadata": {},
     "output_type": "execute_result"
    }
   ],
   "source": [
    "len(my_list)"
   ]
  },
  {
   "cell_type": "code",
   "execution_count": 68,
   "id": "8ed06310",
   "metadata": {},
   "outputs": [
    {
     "data": {
      "text/plain": [
       "1"
      ]
     },
     "execution_count": 68,
     "metadata": {},
     "output_type": "execute_result"
    }
   ],
   "source": [
    "min(my_list)"
   ]
  },
  {
   "cell_type": "code",
   "execution_count": 69,
   "id": "9c02d471",
   "metadata": {},
   "outputs": [
    {
     "data": {
      "text/plain": [
       "5"
      ]
     },
     "execution_count": 69,
     "metadata": {},
     "output_type": "execute_result"
    }
   ],
   "source": [
    "max(my_list)"
   ]
  },
  {
   "cell_type": "code",
   "execution_count": 70,
   "id": "a3a0a732",
   "metadata": {},
   "outputs": [
    {
     "data": {
      "text/plain": [
       "[1, 4, 5, ['Hello', 'Bye']]"
      ]
     },
     "execution_count": 70,
     "metadata": {},
     "output_type": "execute_result"
    }
   ],
   "source": [
    "#nested list\n",
    "my_list.append(['Hello','Bye'])\n",
    "my_list"
   ]
  },
  {
   "cell_type": "code",
   "execution_count": 71,
   "id": "07034caf",
   "metadata": {},
   "outputs": [
    {
     "data": {
      "text/plain": [
       "'Bye'"
      ]
     },
     "execution_count": 71,
     "metadata": {},
     "output_type": "execute_result"
    }
   ],
   "source": [
    "my_list[3][1]"
   ]
  },
  {
   "cell_type": "code",
   "execution_count": 72,
   "id": "65e3c8a3",
   "metadata": {},
   "outputs": [
    {
     "data": {
      "text/plain": [
       "'Hello'"
      ]
     },
     "execution_count": 72,
     "metadata": {},
     "output_type": "execute_result"
    }
   ],
   "source": [
    "my_list[3][0]"
   ]
  },
  {
   "cell_type": "code",
   "execution_count": 73,
   "id": "af37ce22",
   "metadata": {},
   "outputs": [
    {
     "data": {
      "text/plain": [
       "[1, 4, 5, ['Hello', 'Bye']]"
      ]
     },
     "execution_count": 73,
     "metadata": {},
     "output_type": "execute_result"
    }
   ],
   "source": [
    "my_list[:]"
   ]
  },
  {
   "cell_type": "code",
   "execution_count": 75,
   "id": "c6c29265",
   "metadata": {},
   "outputs": [
    {
     "data": {
      "text/plain": [
       "[4, 5]"
      ]
     },
     "execution_count": 75,
     "metadata": {},
     "output_type": "execute_result"
    }
   ],
   "source": [
    "my_list[1:3]"
   ]
  },
  {
   "cell_type": "code",
   "execution_count": 77,
   "id": "a8e08728",
   "metadata": {},
   "outputs": [
    {
     "data": {
      "text/plain": [
       "[4, 5, ['Hello', 'Bye']]"
      ]
     },
     "execution_count": 77,
     "metadata": {},
     "output_type": "execute_result"
    }
   ],
   "source": [
    "my_list[1:]"
   ]
  },
  {
   "cell_type": "code",
   "execution_count": 79,
   "id": "881f71d5",
   "metadata": {},
   "outputs": [
    {
     "data": {
      "text/plain": [
       "[1, 4, 5]"
      ]
     },
     "execution_count": 79,
     "metadata": {},
     "output_type": "execute_result"
    }
   ],
   "source": [
    "my_list[:-1]"
   ]
  },
  {
   "cell_type": "code",
   "execution_count": 81,
   "id": "01b14afd",
   "metadata": {},
   "outputs": [
    {
     "data": {
      "text/plain": [
       "[4, ['Hello', 'Bye']]"
      ]
     },
     "execution_count": 81,
     "metadata": {},
     "output_type": "execute_result"
    }
   ],
   "source": [
    "my_list[1::2] #jump 2"
   ]
  },
  {
   "cell_type": "code",
   "execution_count": 82,
   "id": "963cdc96",
   "metadata": {},
   "outputs": [
    {
     "name": "stdout",
     "output_type": "stream",
     "text": [
      "[1, 4, 5, ['Hello', 'Bye'], 99]\n",
      "[1, 4, 88, 5, ['Hello', 'Bye'], 99]\n"
     ]
    }
   ],
   "source": [
    "#insert: add element anywhere(not just at the end with append)\n",
    "my_list.append(99)\n",
    "print(my_list)\n",
    "my_list.insert(2,88)\n",
    "print(my_list)"
   ]
  },
  {
   "cell_type": "code",
   "execution_count": 83,
   "id": "1a53e7c9",
   "metadata": {},
   "outputs": [
    {
     "name": "stdout",
     "output_type": "stream",
     "text": [
      "[1, 4, 88, 5, ['Hello', 'Bye'], 99, ['new', 'elements']]\n",
      "[1, 4, 88, 5, ['Hello', 'Bye'], 99, ['new', 'elements'], 'new', 'elements']\n"
     ]
    }
   ],
   "source": [
    "#extend: add multiple elements, avoiding them to become a nested list\n",
    "my_list.append(['new','elements'])\n",
    "print(my_list)\n",
    "my_list.extend(['new','elements'])\n",
    "print(my_list)"
   ]
  },
  {
   "cell_type": "code",
   "execution_count": 88,
   "id": "66a40a6a",
   "metadata": {},
   "outputs": [
    {
     "name": "stdout",
     "output_type": "stream",
     "text": [
      "[1, 2, 3]\n",
      "6\n"
     ]
    }
   ],
   "source": [
    "lst = [1,2,3]\n",
    "print(lst)\n",
    "print(sum(lst))"
   ]
  },
  {
   "cell_type": "code",
   "execution_count": 89,
   "id": "6388c6d3",
   "metadata": {},
   "outputs": [
    {
     "name": "stdout",
     "output_type": "stream",
     "text": [
      "[1, 2, 3, 1, 2, 3]\n",
      "2\n",
      "4\n",
      "6\n"
     ]
    }
   ],
   "source": [
    "print(lst*2)\n",
    "for i in lst:\n",
    "    print(i*2)"
   ]
  },
  {
   "cell_type": "code",
   "execution_count": 93,
   "id": "17b381ce",
   "metadata": {},
   "outputs": [
    {
     "name": "stdout",
     "output_type": "stream",
     "text": [
      "[1, 4, 88, 5, ['Hello', 'Bye'], 99, ['new', 'elements'], 'new']\n"
     ]
    }
   ],
   "source": [
    "print(my_list)"
   ]
  },
  {
   "cell_type": "code",
   "execution_count": 94,
   "id": "3e2538bf",
   "metadata": {},
   "outputs": [
    {
     "data": {
      "text/plain": [
       "'new'"
      ]
     },
     "execution_count": 94,
     "metadata": {},
     "output_type": "execute_result"
    }
   ],
   "source": [
    "#pop: removes last element\n",
    "my_list.pop()"
   ]
  },
  {
   "cell_type": "code",
   "execution_count": 95,
   "id": "5b212336",
   "metadata": {},
   "outputs": [
    {
     "name": "stdout",
     "output_type": "stream",
     "text": [
      "[1, 4, 88, 5, ['Hello', 'Bye'], 99, ['new', 'elements']]\n"
     ]
    }
   ],
   "source": [
    "print(my_list)"
   ]
  },
  {
   "cell_type": "code",
   "execution_count": 67,
   "id": "1a767732",
   "metadata": {},
   "outputs": [
    {
     "name": "stdout",
     "output_type": "stream",
     "text": [
      "1\n",
      "4\n",
      "5\n"
     ]
    }
   ],
   "source": [
    "#iterate over lists\n",
    "for i in my_list:\n",
    "    print(i)"
   ]
  },
  {
   "cell_type": "markdown",
   "id": "26ec93f8",
   "metadata": {},
   "source": [
    "## SHALLOW COPY"
   ]
  },
  {
   "cell_type": "code",
   "execution_count": 102,
   "id": "531db163",
   "metadata": {},
   "outputs": [
    {
     "name": "stdout",
     "output_type": "stream",
     "text": [
      "[1, 4, 88, 5, ['Hello', 'Bye'], 99, ['new', 'elements']]\n",
      "4421998592\n",
      "[1, 4, 88, 5, ['Hello', 'Bye'], 99, ['new', 'elements']]\n",
      "4421401792\n"
     ]
    }
   ],
   "source": [
    "# copying with different address\n",
    "\n",
    "my_list1 = my_list.copy()\n",
    "print(my_list)\n",
    "print(id(my_list))\n",
    "print(my_list1)\n",
    "print(id(my_list1))"
   ]
  },
  {
   "cell_type": "code",
   "execution_count": 103,
   "id": "71af5ef6",
   "metadata": {},
   "outputs": [
    {
     "name": "stdout",
     "output_type": "stream",
     "text": [
      "[1, 4, 88, 5, ['Hello', 'Bye'], 99, ['new', 'elements']]\n",
      "[1, 4, 88, 5, ['Hello', 'Bye'], 99, ['new', 'elements'], 0]\n"
     ]
    }
   ],
   "source": [
    "# SHALLOW COPY\n",
    "\n",
    "my_list1.append(0)  # ONLY APPENDING IN my_list1; no effect on my_list\n",
    "print(my_list)\n",
    "print((my_list1))"
   ]
  },
  {
   "cell_type": "markdown",
   "id": "a86cafb9",
   "metadata": {},
   "source": [
    "## DEEP COPY"
   ]
  },
  {
   "cell_type": "code",
   "execution_count": 104,
   "id": "eb94c915",
   "metadata": {},
   "outputs": [
    {
     "name": "stdout",
     "output_type": "stream",
     "text": [
      "[1, 4, 88, 5, ['Hello', 'Bye'], 99, ['new', 'elements']]\n",
      "4421998592\n",
      "[1, 4, 88, 5, ['Hello', 'Bye'], 99, ['new', 'elements']]\n",
      "4421998592\n"
     ]
    }
   ],
   "source": [
    "# copying with same address\n",
    "\n",
    "my_list1 = my_list\n",
    "print(my_list)\n",
    "print(id(my_list))\n",
    "print(my_list1)\n",
    "print(id(my_list1))"
   ]
  },
  {
   "cell_type": "code",
   "execution_count": 105,
   "id": "b780ca34",
   "metadata": {},
   "outputs": [
    {
     "name": "stdout",
     "output_type": "stream",
     "text": [
      "[1, 4, 88, 5, ['Hello', 'Bye'], 99, ['new', 'elements'], 0]\n",
      "[1, 4, 88, 5, ['Hello', 'Bye'], 99, ['new', 'elements'], 0]\n"
     ]
    }
   ],
   "source": [
    "# DEEP COPY\n",
    "\n",
    "my_list1.append(0) # ONLY APPENDING IN my_list1; SAME effect on my_list\n",
    "print(my_list)\n",
    "print((my_list1))"
   ]
  },
  {
   "cell_type": "code",
   "execution_count": 106,
   "id": "423ae456",
   "metadata": {},
   "outputs": [
    {
     "name": "stdout",
     "output_type": "stream",
     "text": [
      "[1, 4, 88, 5, ['Hello', 'Bye'], 99, ['new', 'elements'], 0, 1]\n"
     ]
    },
    {
     "data": {
      "text/plain": [
       "2"
      ]
     },
     "execution_count": 106,
     "metadata": {},
     "output_type": "execute_result"
    }
   ],
   "source": [
    "my_list.append(1)\n",
    "print(my_list)\n",
    "my_list.count(1)"
   ]
  },
  {
   "cell_type": "code",
   "execution_count": 107,
   "id": "e620b6d7",
   "metadata": {},
   "outputs": [],
   "source": [
    "my_list.reverse()"
   ]
  },
  {
   "cell_type": "code",
   "execution_count": 108,
   "id": "c05a3046",
   "metadata": {},
   "outputs": [
    {
     "name": "stdout",
     "output_type": "stream",
     "text": [
      "[1, 0, ['new', 'elements'], 99, ['Hello', 'Bye'], 5, 88, 4, 1]\n"
     ]
    }
   ],
   "source": [
    "print(my_list)"
   ]
  },
  {
   "cell_type": "code",
   "execution_count": 110,
   "id": "46bc4273",
   "metadata": {},
   "outputs": [
    {
     "data": {
      "text/plain": [
       "0"
      ]
     },
     "execution_count": 110,
     "metadata": {},
     "output_type": "execute_result"
    }
   ],
   "source": [
    "# index(x) -> returns index of first occurance of x\n",
    "my_list.index(1)"
   ]
  },
  {
   "cell_type": "code",
   "execution_count": 113,
   "id": "f808eeea",
   "metadata": {},
   "outputs": [
    {
     "name": "stdout",
     "output_type": "stream",
     "text": [
      "[2, 3, 1]\n",
      "[1, 2, 3]\n"
     ]
    }
   ],
   "source": [
    "lst = [2,3,1]\n",
    "print(lst)\n",
    "lst.sort()\n",
    "print(lst)"
   ]
  },
  {
   "cell_type": "code",
   "execution_count": 114,
   "id": "db300f68",
   "metadata": {},
   "outputs": [
    {
     "name": "stdout",
     "output_type": "stream",
     "text": [
      "[1, 0, ['new', 'elements'], 99, ['Hello', 'Bye'], 5, 88, 4, 1]\n",
      "[1, ['new', 'elements'], 99, ['Hello', 'Bye'], 5, 88, 4, 1]\n"
     ]
    }
   ],
   "source": [
    "# remove(x) -> removes the first occurance of x\n",
    "print(my_list)\n",
    "my_list.remove(0)\n",
    "print(my_list)"
   ]
  },
  {
   "cell_type": "code",
   "execution_count": null,
   "id": "3c8e1d67",
   "metadata": {},
   "outputs": [],
   "source": [
    "my_list.clear"
   ]
  },
  {
   "cell_type": "code",
   "execution_count": 118,
   "id": "177fc317",
   "metadata": {},
   "outputs": [
    {
     "data": {
      "text/plain": [
       "dict"
      ]
     },
     "execution_count": 118,
     "metadata": {},
     "output_type": "execute_result"
    }
   ],
   "source": [
    "# sets\n",
    "type({})"
   ]
  },
  {
   "cell_type": "code",
   "execution_count": 120,
   "id": "c98d340a",
   "metadata": {},
   "outputs": [
    {
     "data": {
      "text/plain": [
       "set"
      ]
     },
     "execution_count": 120,
     "metadata": {},
     "output_type": "execute_result"
    }
   ],
   "source": [
    "type({1,'Muskan'})"
   ]
  },
  {
   "cell_type": "code",
   "execution_count": 122,
   "id": "8923b215",
   "metadata": {},
   "outputs": [
    {
     "data": {
      "text/plain": [
       "set"
      ]
     },
     "execution_count": 122,
     "metadata": {},
     "output_type": "execute_result"
    }
   ],
   "source": [
    "my_set = set()\n",
    "type(my_set)"
   ]
  },
  {
   "cell_type": "code",
   "execution_count": 129,
   "id": "8eb0b516",
   "metadata": {},
   "outputs": [
    {
     "data": {
      "text/plain": [
       "{1, 2}"
      ]
     },
     "execution_count": 129,
     "metadata": {},
     "output_type": "execute_result"
    }
   ],
   "source": [
    "#lists can have dulicate elements, but when casted to a set, no duplicacy\n",
    "\n",
    "my_list = [1,2,2]\n",
    "my_set = set(my_list)\n",
    "my_set"
   ]
  },
  {
   "cell_type": "code",
   "execution_count": 130,
   "id": "ddd1a269",
   "metadata": {},
   "outputs": [
    {
     "name": "stdout",
     "output_type": "stream",
     "text": [
      "{1, 2, 3, 4, 5, 6, 7}\n"
     ]
    }
   ],
   "source": [
    "print(set([1,2,3,4,5,5,6,7,7,7,7]))"
   ]
  },
  {
   "cell_type": "code",
   "execution_count": 132,
   "id": "5765d089",
   "metadata": {},
   "outputs": [
    {
     "data": {
      "text/plain": [
       "{1, 2, 3}"
      ]
     },
     "execution_count": 132,
     "metadata": {},
     "output_type": "execute_result"
    }
   ],
   "source": [
    "my_set = {1,2,3,1,2,2,2}\n",
    "my_set"
   ]
  },
  {
   "cell_type": "code",
   "execution_count": 134,
   "id": "43c29c74",
   "metadata": {},
   "outputs": [
    {
     "name": "stdout",
     "output_type": "stream",
     "text": [
      "1\n",
      "2\n",
      "3\n"
     ]
    }
   ],
   "source": [
    "for i in my_set:\n",
    "    print(i)"
   ]
  },
  {
   "cell_type": "code",
   "execution_count": 135,
   "id": "aad363fc",
   "metadata": {},
   "outputs": [
    {
     "data": {
      "text/plain": [
       "{1, 2, 3, 'Mus'}"
      ]
     },
     "execution_count": 135,
     "metadata": {},
     "output_type": "execute_result"
    }
   ],
   "source": [
    "my_set.add('Mus')\n",
    "my_set"
   ]
  },
  {
   "cell_type": "code",
   "execution_count": 136,
   "id": "326a0461",
   "metadata": {},
   "outputs": [
    {
     "data": {
      "text/plain": [
       "{0, 1, 2, 3, 'Mus'}"
      ]
     },
     "execution_count": 136,
     "metadata": {},
     "output_type": "execute_result"
    }
   ],
   "source": [
    "my_set.add(0)\n",
    "my_set"
   ]
  },
  {
   "cell_type": "code",
   "execution_count": 144,
   "id": "96e85471",
   "metadata": {},
   "outputs": [
    {
     "name": "stdout",
     "output_type": "stream",
     "text": [
      "{1, 2}\n",
      "{1, 5, 6}\n"
     ]
    }
   ],
   "source": [
    "set1 = {1,2}\n",
    "set2 = {1,5,6}\n",
    "print(set1)\n",
    "print(set2)"
   ]
  },
  {
   "cell_type": "code",
   "execution_count": 145,
   "id": "f9ef9328",
   "metadata": {},
   "outputs": [
    {
     "name": "stdout",
     "output_type": "stream",
     "text": [
      "{1}\n",
      "{1}\n",
      "{1, 2}\n",
      "{1, 5, 6}\n"
     ]
    }
   ],
   "source": [
    "print(set1.intersection(set2))\n",
    "print(set2.intersection(set1))\n",
    "print(set1)\n",
    "print(set2)"
   ]
  },
  {
   "cell_type": "code",
   "execution_count": 146,
   "id": "1381725e",
   "metadata": {},
   "outputs": [
    {
     "name": "stdout",
     "output_type": "stream",
     "text": [
      "None\n",
      "None\n",
      "{1}\n",
      "{1}\n"
     ]
    }
   ],
   "source": [
    "print(set1.intersection_update(set2))\n",
    "print(set2.intersection_update(set1))\n",
    "print(set1)\n",
    "print(set2)"
   ]
  },
  {
   "cell_type": "code",
   "execution_count": 143,
   "id": "a249c100",
   "metadata": {},
   "outputs": [
    {
     "name": "stdout",
     "output_type": "stream",
     "text": [
      "{1}\n",
      "{1}\n"
     ]
    }
   ],
   "source": [
    "print(set1)\n",
    "print(set2)"
   ]
  },
  {
   "cell_type": "code",
   "execution_count": 150,
   "id": "acd59796",
   "metadata": {},
   "outputs": [
    {
     "name": "stdout",
     "output_type": "stream",
     "text": [
      "set1 = {1, 2}\n",
      "set2 = {1, 5, 6}\n",
      "{2}\n",
      "{5, 6}\n",
      "{1, 2}\n",
      "{1, 5, 6}\n",
      "None\n",
      "None\n",
      "{2}\n",
      "{1, 5, 6}\n"
     ]
    }
   ],
   "source": [
    "set1 = {1,2}\n",
    "set2 = {1,5,6}\n",
    "print(f'set1 = {set1}')\n",
    "print(f'set2 = {set2}')\n",
    "print(set1.difference(set2))\n",
    "print(set2.difference(set1))\n",
    "print(set1)\n",
    "print(set2)\n",
    "print(set1.difference_update(set2))\n",
    "print(set2.difference_update(set1))\n",
    "print(set1)\n",
    "print(set2)"
   ]
  },
  {
   "cell_type": "code",
   "execution_count": 151,
   "id": "6c6df6c5",
   "metadata": {},
   "outputs": [
    {
     "data": {
      "text/plain": [
       "False"
      ]
     },
     "execution_count": 151,
     "metadata": {},
     "output_type": "execute_result"
    }
   ],
   "source": [
    "set1.issuperset(set2)"
   ]
  },
  {
   "cell_type": "code",
   "execution_count": 152,
   "id": "73848be8",
   "metadata": {},
   "outputs": [
    {
     "data": {
      "text/plain": [
       "False"
      ]
     },
     "execution_count": 152,
     "metadata": {},
     "output_type": "execute_result"
    }
   ],
   "source": [
    "set1.issubset(set2)"
   ]
  },
  {
   "cell_type": "code",
   "execution_count": 153,
   "id": "658a01ea",
   "metadata": {},
   "outputs": [
    {
     "data": {
      "text/plain": [
       "dict"
      ]
     },
     "execution_count": 153,
     "metadata": {},
     "output_type": "execute_result"
    }
   ],
   "source": [
    "#dictionary\n",
    "type({1:'Muskan'})"
   ]
  },
  {
   "cell_type": "code",
   "execution_count": 154,
   "id": "626ad5bb",
   "metadata": {},
   "outputs": [
    {
     "data": {
      "text/plain": [
       "dict"
      ]
     },
     "execution_count": 154,
     "metadata": {},
     "output_type": "execute_result"
    }
   ],
   "source": [
    "type(dict())"
   ]
  },
  {
   "cell_type": "code",
   "execution_count": 155,
   "id": "1683da61",
   "metadata": {},
   "outputs": [
    {
     "data": {
      "text/plain": [
       "{'fname': 'Muskan', 'lname': 'Singhal', 'age': 26}"
      ]
     },
     "execution_count": 155,
     "metadata": {},
     "output_type": "execute_result"
    }
   ],
   "source": [
    "my_dict = dict(fname='Muskan',lname='Singhal',age=26)\n",
    "my_dict"
   ]
  },
  {
   "cell_type": "code",
   "execution_count": 158,
   "id": "ddb504ff",
   "metadata": {},
   "outputs": [
    {
     "data": {
      "text/plain": [
       "26"
      ]
     },
     "execution_count": 158,
     "metadata": {},
     "output_type": "execute_result"
    }
   ],
   "source": [
    "my_dict['age']"
   ]
  },
  {
   "cell_type": "code",
   "execution_count": 159,
   "id": "f12d5577",
   "metadata": {},
   "outputs": [
    {
     "data": {
      "text/plain": [
       "dict_items([('fname', 'Muskan'), ('lname', 'Singhal'), ('age', 26)])"
      ]
     },
     "execution_count": 159,
     "metadata": {},
     "output_type": "execute_result"
    }
   ],
   "source": [
    "my_dict.items()"
   ]
  },
  {
   "cell_type": "code",
   "execution_count": 160,
   "id": "f131c649",
   "metadata": {},
   "outputs": [
    {
     "data": {
      "text/plain": [
       "dict_keys(['fname', 'lname', 'age'])"
      ]
     },
     "execution_count": 160,
     "metadata": {},
     "output_type": "execute_result"
    }
   ],
   "source": [
    "my_dict.keys()"
   ]
  },
  {
   "cell_type": "code",
   "execution_count": 161,
   "id": "f0bbf841",
   "metadata": {},
   "outputs": [
    {
     "data": {
      "text/plain": [
       "dict_values(['Muskan', 'Singhal', 26])"
      ]
     },
     "execution_count": 161,
     "metadata": {},
     "output_type": "execute_result"
    }
   ],
   "source": [
    "my_dict.values()"
   ]
  },
  {
   "cell_type": "code",
   "execution_count": 165,
   "id": "34db48cc",
   "metadata": {},
   "outputs": [
    {
     "name": "stdout",
     "output_type": "stream",
     "text": [
      "fname\n",
      "lname\n",
      "age\n"
     ]
    }
   ],
   "source": [
    "for i in my_dict: #by default gives keys\n",
    "    print(i)"
   ]
  },
  {
   "cell_type": "code",
   "execution_count": 166,
   "id": "4c146f72",
   "metadata": {},
   "outputs": [
    {
     "name": "stdout",
     "output_type": "stream",
     "text": [
      "Muskan\n",
      "Singhal\n",
      "26\n"
     ]
    }
   ],
   "source": [
    "for i in my_dict.values(): #gives values\n",
    "    print(i)"
   ]
  },
  {
   "cell_type": "code",
   "execution_count": 168,
   "id": "11f67217",
   "metadata": {},
   "outputs": [
    {
     "name": "stdout",
     "output_type": "stream",
     "text": [
      "('fname', 'Muskan')\n",
      "('lname', 'Singhal')\n",
      "('age', 26)\n"
     ]
    }
   ],
   "source": [
    "for i in my_dict.items(): #gives key:value pairs\n",
    "    print(i)"
   ]
  },
  {
   "cell_type": "code",
   "execution_count": 169,
   "id": "34c3cb5d",
   "metadata": {},
   "outputs": [],
   "source": [
    "my_dict['new'] = 'value' "
   ]
  },
  {
   "cell_type": "code",
   "execution_count": 170,
   "id": "64fddcac",
   "metadata": {},
   "outputs": [
    {
     "name": "stdout",
     "output_type": "stream",
     "text": [
      "('fname', 'Muskan')\n",
      "('lname', 'Singhal')\n",
      "('age', 26)\n",
      "('new', 'value')\n"
     ]
    }
   ],
   "source": [
    "for i in my_dict.items(): #gives key:value pairs\n",
    "    print(i)"
   ]
  },
  {
   "cell_type": "code",
   "execution_count": 175,
   "id": "7af474e5",
   "metadata": {},
   "outputs": [
    {
     "data": {
      "text/plain": [
       "{'car1': {'Mercedes': 1960},\n",
       " 'car2': {'Audi': 1970},\n",
       " 'car3': {'Ambassador': 1980}}"
      ]
     },
     "execution_count": 175,
     "metadata": {},
     "output_type": "execute_result"
    }
   ],
   "source": [
    "#Nested Dictionary\n",
    "\n",
    "car1 = {'Mercedes': 1960}\n",
    "car2 = {'Audi': 1970}\n",
    "car3 = {'Ambassador': 1980}\n",
    "\n",
    "new_dict = {'car1': car1, 'car2': car2, 'car3': car3}\n",
    "new_dict"
   ]
  },
  {
   "cell_type": "code",
   "execution_count": 176,
   "id": "2f0cd482",
   "metadata": {},
   "outputs": [
    {
     "data": {
      "text/plain": [
       "1960"
      ]
     },
     "execution_count": 176,
     "metadata": {},
     "output_type": "execute_result"
    }
   ],
   "source": [
    "new_dict['car1']['Mercedes']"
   ]
  },
  {
   "cell_type": "code",
   "execution_count": 177,
   "id": "99e6bea8",
   "metadata": {},
   "outputs": [
    {
     "data": {
      "text/plain": [
       "dict_values([{'Mercedes': 1960}, {'Audi': 1970}, {'Ambassador': 1980}])"
      ]
     },
     "execution_count": 177,
     "metadata": {},
     "output_type": "execute_result"
    }
   ],
   "source": [
    "new_dict.values()"
   ]
  },
  {
   "cell_type": "code",
   "execution_count": 180,
   "id": "68cd142c",
   "metadata": {},
   "outputs": [
    {
     "data": {
      "text/plain": [
       "()"
      ]
     },
     "execution_count": 180,
     "metadata": {},
     "output_type": "execute_result"
    }
   ],
   "source": [
    "my_tuple = tuple()\n",
    "my_tuple"
   ]
  },
  {
   "cell_type": "code",
   "execution_count": 181,
   "id": "29aea0b2",
   "metadata": {},
   "outputs": [
    {
     "data": {
      "text/plain": [
       "tuple"
      ]
     },
     "execution_count": 181,
     "metadata": {},
     "output_type": "execute_result"
    }
   ],
   "source": [
    "type(my_tuple)"
   ]
  },
  {
   "cell_type": "code",
   "execution_count": 182,
   "id": "36c06fcb",
   "metadata": {},
   "outputs": [
    {
     "data": {
      "text/plain": [
       "('1', 2)"
      ]
     },
     "execution_count": 182,
     "metadata": {},
     "output_type": "execute_result"
    }
   ],
   "source": [
    "my_tuple = ('1', 2)\n",
    "my_tuple"
   ]
  },
  {
   "cell_type": "code",
   "execution_count": 184,
   "id": "5a580a72",
   "metadata": {},
   "outputs": [
    {
     "data": {
      "text/plain": [
       "1"
      ]
     },
     "execution_count": 184,
     "metadata": {},
     "output_type": "execute_result"
    }
   ],
   "source": [
    "my_tuple.count(2)"
   ]
  },
  {
   "cell_type": "code",
   "execution_count": 187,
   "id": "6ef3eede",
   "metadata": {},
   "outputs": [
    {
     "data": {
      "text/plain": [
       "0"
      ]
     },
     "execution_count": 187,
     "metadata": {},
     "output_type": "execute_result"
    }
   ],
   "source": [
    "my_tuple.index('1')"
   ]
  },
  {
   "cell_type": "code",
   "execution_count": 190,
   "id": "59e69d6e",
   "metadata": {},
   "outputs": [
    {
     "data": {
      "text/plain": [
       "['1', 2]"
      ]
     },
     "execution_count": 190,
     "metadata": {},
     "output_type": "execute_result"
    }
   ],
   "source": [
    "my_tuple = list(my_tuple)\n",
    "my_tuple"
   ]
  }
 ],
 "metadata": {
  "kernelspec": {
   "display_name": "Python 3 (ipykernel)",
   "language": "python",
   "name": "python3"
  },
  "language_info": {
   "codemirror_mode": {
    "name": "ipython",
    "version": 3
   },
   "file_extension": ".py",
   "mimetype": "text/x-python",
   "name": "python",
   "nbconvert_exporter": "python",
   "pygments_lexer": "ipython3",
   "version": "3.11.5"
  }
 },
 "nbformat": 4,
 "nbformat_minor": 5
}
